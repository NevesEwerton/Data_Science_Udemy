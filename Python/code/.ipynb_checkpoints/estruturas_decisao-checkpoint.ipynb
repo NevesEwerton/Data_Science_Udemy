{
 "cells": [
  {
   "cell_type": "markdown",
   "id": "18535682",
   "metadata": {},
   "source": [
    "# Formação Cientista de Dados "
   ]
  },
  {
   "cell_type": "markdown",
   "id": "f554be30",
   "metadata": {},
   "source": [
    "Estruturas de decisão"
   ]
  },
  {
   "cell_type": "code",
   "execution_count": null,
   "id": "2ce38766",
   "metadata": {},
   "outputs": [],
   "source": []
  },
  {
   "cell_type": "code",
   "execution_count": 1,
   "id": "170dd84b",
   "metadata": {},
   "outputs": [
    {
     "name": "stdout",
     "output_type": "stream",
     "text": [
      "Aprovado\n",
      "Parabéns\n"
     ]
    }
   ],
   "source": [
    "nota = 7\n",
    "if nota >= 7: # teste lógico\n",
    "    print(\"Aprovado\")\n",
    "    print(\"Parabéns\")\n",
    "else:\n",
    "    print(\"Reprovado\")"
   ]
  },
  {
   "cell_type": "code",
   "execution_count": 2,
   "id": "609d971e",
   "metadata": {},
   "outputs": [
    {
     "name": "stdout",
     "output_type": "stream",
     "text": [
      "Reprovado\n"
     ]
    }
   ],
   "source": [
    "# só mudar o valor da variável\n",
    "nota = 5\n",
    "if nota >= 7: # teste lógico\n",
    "    print(\"Aprovado\")\n",
    "else:\n",
    "    print(\"Reprovado\")"
   ]
  },
  {
   "cell_type": "code",
   "execution_count": 3,
   "id": "049c997c",
   "metadata": {},
   "outputs": [
    {
     "name": "stdout",
     "output_type": "stream",
     "text": [
      "Aprovado\n"
     ]
    }
   ],
   "source": [
    "# Testar com 4, 5 e 7\n",
    "nota = 7\n",
    "if nota <= 4: # teste lógico\n",
    "    print(\"Rerovado\")\n",
    "elif nota > 4 and nota <= 6:\n",
    "    print(\"Recuperação\")\n",
    "else:\n",
    "    print(\"Aprovado\")"
   ]
  },
  {
   "cell_type": "code",
   "execution_count": null,
   "id": "2bc0adc9",
   "metadata": {},
   "outputs": [],
   "source": []
  },
  {
   "cell_type": "code",
   "execution_count": null,
   "id": "96203ab2",
   "metadata": {},
   "outputs": [],
   "source": []
  },
  {
   "cell_type": "code",
   "execution_count": null,
   "id": "780415b8",
   "metadata": {},
   "outputs": [],
   "source": []
  }
 ],
 "metadata": {
  "kernelspec": {
   "display_name": "Python 3 (ipykernel)",
   "language": "python",
   "name": "python3"
  },
  "language_info": {
   "codemirror_mode": {
    "name": "ipython",
    "version": 3
   },
   "file_extension": ".py",
   "mimetype": "text/x-python",
   "name": "python",
   "nbconvert_exporter": "python",
   "pygments_lexer": "ipython3",
   "version": "3.9.7"
  }
 },
 "nbformat": 4,
 "nbformat_minor": 5
}
