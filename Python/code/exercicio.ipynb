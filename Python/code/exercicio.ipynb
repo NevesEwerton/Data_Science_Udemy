{
 "cells": [
  {
   "cell_type": "markdown",
   "id": "d4a01f32",
   "metadata": {},
   "source": [
    "1. Faça um programa que tenha uma função chamada amplitude. A função deve receber uma lista e imprimir a amplitude.Crie também um código para testar sua função"
   ]
  },
  {
   "cell_type": "code",
   "execution_count": null,
   "id": "d1f3193b",
   "metadata": {},
   "outputs": [],
   "source": []
  },
  {
   "cell_type": "code",
   "execution_count": 7,
   "id": "a1ad0ed4",
   "metadata": {},
   "outputs": [],
   "source": [
    "def amplitude(x):\n",
    "    print(\"Amplitude da lista é: \", max(x) - min(x))"
   ]
  },
  {
   "cell_type": "code",
   "execution_count": 8,
   "id": "3ed73ec7",
   "metadata": {},
   "outputs": [
    {
     "name": "stdout",
     "output_type": "stream",
     "text": [
      "Amplitude da lista é:  99\n"
     ]
    }
   ],
   "source": [
    "lista = [1,4,6,6,8,8,9,100]\n",
    "amplitude(lista)"
   ]
  },
  {
   "cell_type": "code",
   "execution_count": null,
   "id": "9e11a6db",
   "metadata": {},
   "outputs": [],
   "source": []
  },
  {
   "cell_type": "markdown",
   "id": "355ebe54",
   "metadata": {},
   "source": [
    "2. Faça uma função que receba uma string e imprima esta string na forma vertical\n"
   ]
  },
  {
   "cell_type": "code",
   "execution_count": 13,
   "id": "9761f8db",
   "metadata": {},
   "outputs": [
    {
     "data": {
      "text/plain": [
       "'m'"
      ]
     },
     "execution_count": 13,
     "metadata": {},
     "output_type": "execute_result"
    }
   ],
   "source": [
    "test = ['a','m','o','r']"
   ]
  },
  {
   "cell_type": "code",
   "execution_count": 15,
   "id": "4077e26f",
   "metadata": {},
   "outputs": [],
   "source": [
    "def string_vertical(texto):\n",
    "    for n in range(0, len(texto)):\n",
    "        print(texto[n])    "
   ]
  },
  {
   "cell_type": "code",
   "execution_count": 18,
   "id": "7baf41bf",
   "metadata": {},
   "outputs": [
    {
     "name": "stdout",
     "output_type": "stream",
     "text": [
      "F\n",
      "l\n",
      "a\n",
      "m\n",
      "e\n",
      "n\n",
      "g\n",
      "o\n"
     ]
    }
   ],
   "source": [
    "string_vertical(\"Flamengo\")"
   ]
  },
  {
   "cell_type": "code",
   "execution_count": null,
   "id": "fcfe74a8",
   "metadata": {},
   "outputs": [],
   "source": []
  },
  {
   "cell_type": "code",
   "execution_count": null,
   "id": "70cecce1",
   "metadata": {},
   "outputs": [],
   "source": []
  },
  {
   "cell_type": "markdown",
   "id": "125fe9f1",
   "metadata": {},
   "source": [
    "3. Crie um programa que leia o peso de uma carga em números inteiros. Se o peso for até 10 kg, informe que o valor será de 50,00 reais. Entre 11 e 20 kg, informe que o valor será de 80 reais.Se for maior que  20 informe que o transporte não é aceito. Teste vários pesos."
   ]
  },
  {
   "cell_type": "code",
   "execution_count": 26,
   "id": "76ed1c6b",
   "metadata": {},
   "outputs": [],
   "source": [
    "def preco_por_peso(x):\n",
    "    if x <= 10:\n",
    "        print(\"Preço é: \", 50)\n",
    "    elif x >= 11 and x <= 20:\n",
    "        print(\"Preço é: \", 80)\n",
    "    else:\n",
    "        print(\"Não podemos fazer o transporte, pois a carga é pesada demais!\")"
   ]
  },
  {
   "cell_type": "code",
   "execution_count": 29,
   "id": "0a69a7ec",
   "metadata": {},
   "outputs": [
    {
     "name": "stdout",
     "output_type": "stream",
     "text": [
      "Não podemos fazer o transporte, pois a carga é pesada demais!\n"
     ]
    }
   ],
   "source": [
    "preco_por_peso(100000)"
   ]
  },
  {
   "cell_type": "code",
   "execution_count": null,
   "id": "1ec00ad3",
   "metadata": {},
   "outputs": [],
   "source": []
  },
  {
   "cell_type": "code",
   "execution_count": null,
   "id": "5fb714f3",
   "metadata": {},
   "outputs": [],
   "source": []
  },
  {
   "cell_type": "code",
   "execution_count": null,
   "id": "daed7bf8",
   "metadata": {},
   "outputs": [],
   "source": []
  }
 ],
 "metadata": {
  "kernelspec": {
   "display_name": "Python 3 (ipykernel)",
   "language": "python",
   "name": "python3"
  },
  "language_info": {
   "codemirror_mode": {
    "name": "ipython",
    "version": 3
   },
   "file_extension": ".py",
   "mimetype": "text/x-python",
   "name": "python",
   "nbconvert_exporter": "python",
   "pygments_lexer": "ipython3",
   "version": "3.9.7"
  }
 },
 "nbformat": 4,
 "nbformat_minor": 5
}
