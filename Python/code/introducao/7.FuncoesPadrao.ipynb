{
 "cells": [
  {
   "cell_type": "markdown",
   "metadata": {},
   "source": [
    "# Formação Cientista de Dados - Prof. Fernando Amaral\n",
    "Funções Padrão"
   ]
  },
  {
   "cell_type": "code",
   "execution_count": 1,
   "metadata": {},
   "outputs": [
    {
     "name": "stdout",
     "output_type": "stream",
     "text": [
      "200\n",
      "Maior valor:  45\n",
      "Menor valor:  1\n",
      "Soma:  108\n",
      "Arredondamento:  2.35\n"
     ]
    }
   ],
   "source": [
    "#funções internas\n",
    "# retira o sinal (valor absoluto)\n",
    "print(abs(-200))\n",
    "lst = [1,2,30,30,45]\n",
    "print(\"Maior valor: \", max(lst))\n",
    "print(\"Menor valor: \", min(lst))\n",
    "print(\"Soma: \", sum(lst))\n",
    "print(\"Arredondamento: \", round(2.34567,2))"
   ]
  },
  {
   "cell_type": "code",
   "execution_count": 2,
   "metadata": {},
   "outputs": [
    {
     "name": "stdout",
     "output_type": "stream",
     "text": [
      "Média:  21.6\n",
      "Mediana:  30\n",
      "Moda:  30\n"
     ]
    }
   ],
   "source": [
    "#statistica\n",
    "from statistics import *\n",
    "print(\"Média: \", mean(lst))\n",
    "print(\"Mediana: \", median(lst))\n",
    "print(\"Moda: \", mode(lst))"
   ]
  },
  {
   "cell_type": "code",
   "execution_count": 3,
   "metadata": {},
   "outputs": [
    {
     "name": "stdout",
     "output_type": "stream",
     "text": [
      "Desvio padrão:  19.346834366376324\n"
     ]
    }
   ],
   "source": [
    "#desvio padrão da amostra\n",
    "print(\"Desvio padrão: \", stdev(lst))"
   ]
  },
  {
   "cell_type": "code",
   "execution_count": 4,
   "metadata": {},
   "outputs": [
    {
     "name": "stdout",
     "output_type": "stream",
     "text": [
      "Variância:  374.3\n"
     ]
    }
   ],
   "source": [
    "#variancia da amostra\n",
    "print(\"Variância: \", variance(lst))"
   ]
  },
  {
   "cell_type": "code",
   "execution_count": 5,
   "metadata": {},
   "outputs": [
    {
     "name": "stdout",
     "output_type": "stream",
     "text": [
      "<class 'numpy.ndarray'>\n",
      "[[0.66652427 0.56163527 0.71529146 0.64219444 0.15973586 0.02254126\n",
      "  0.11982501 0.30403213]\n",
      " [0.26057776 0.23425136 0.16269845 0.42250855 0.92986038 0.1051982\n",
      "  0.89781306 0.14147066]\n",
      " [0.22629354 0.28915917 0.64073393 0.67521997 0.85617545 0.11858149\n",
      "  0.41510638 0.66351139]\n",
      " [0.50748327 0.2941588  0.4192311  0.0494706  0.73442201 0.31417284\n",
      "  0.29069798 0.58872299]\n",
      " [0.97602531 0.50450591 0.27989963 0.15331995 0.25013043 0.18526157\n",
      "  0.59991595 0.69182345]\n",
      " [0.01717372 0.8019194  0.86825804 0.92658163 0.01969226 0.34524187\n",
      "  0.56047777 0.70762455]\n",
      " [0.20906162 0.71560828 0.56053002 0.01978275 0.16098035 0.72929175\n",
      "  0.07673682 0.46696064]\n",
      " [0.33474351 0.93315673 0.55857143 0.96895051 0.6558739  0.32004611\n",
      "  0.96223789 0.2174589 ]]\n"
     ]
    }
   ],
   "source": [
    "from numpy import *\n",
    "a = random.random((8,8))\n",
    "print(type(a))\n",
    "print(a)"
   ]
  },
  {
   "cell_type": "code",
   "execution_count": null,
   "metadata": {},
   "outputs": [],
   "source": []
  }
 ],
 "metadata": {
  "kernelspec": {
   "display_name": "Python 3 (ipykernel)",
   "language": "python",
   "name": "python3"
  },
  "language_info": {
   "codemirror_mode": {
    "name": "ipython",
    "version": 3
   },
   "file_extension": ".py",
   "mimetype": "text/x-python",
   "name": "python",
   "nbconvert_exporter": "python",
   "pygments_lexer": "ipython3",
   "version": "3.9.7"
  }
 },
 "nbformat": 4,
 "nbformat_minor": 4
}
