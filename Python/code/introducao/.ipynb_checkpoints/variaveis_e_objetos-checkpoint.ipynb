{
 "cells": [
  {
   "cell_type": "markdown",
   "id": "4bb32252",
   "metadata": {},
   "source": [
    "# Formação Cientista de Dados"
   ]
  },
  {
   "cell_type": "markdown",
   "id": "401b1e2e",
   "metadata": {},
   "source": [
    " Variáveis e objetos"
   ]
  },
  {
   "cell_type": "code",
   "execution_count": 1,
   "id": "dcf4aa83",
   "metadata": {},
   "outputs": [
    {
     "name": "stdout",
     "output_type": "stream",
     "text": [
      "1\n",
      "3.13\n",
      "Python\n",
      "False\n"
     ]
    }
   ],
   "source": [
    "# cria variável do tipo inteiro\n",
    "x = 1\n",
    "print(x)\n",
    "# cria variável do tipo float\n",
    "y = 3.13\n",
    "print(y)\n",
    "# cria variável do tipo string\n",
    "m = \"Python\"\n",
    "print(m)\n",
    "# Cria variável do tipo lógico\n",
    "w = True\n",
    "y = False\n",
    "print(y)"
   ]
  },
  {
   "cell_type": "code",
   "execution_count": 2,
   "id": "5bbdb010",
   "metadata": {},
   "outputs": [
    {
     "name": "stdout",
     "output_type": "stream",
     "text": [
      "30.0\n"
     ]
    }
   ],
   "source": [
    "# Calculadora\n",
    "x = 10\n",
    "y = 20\n",
    "z = 100\n",
    "w = (x+y) * z/100\n",
    "print(w)"
   ]
  },
  {
   "cell_type": "code",
   "execution_count": 3,
   "id": "b4c02ed8",
   "metadata": {},
   "outputs": [
    {
     "name": "stdout",
     "output_type": "stream",
     "text": [
      "Este texto será impresso no console\n",
      "10\n",
      "Texto e duas variáveis 10 , 100\n"
     ]
    }
   ],
   "source": [
    "# exibir texto no controle\n",
    "print(\"Este texto será impresso no console\")\n",
    "print(x)\n",
    "print(\"Texto e duas variáveis\",x,\",\",z)"
   ]
  },
  {
   "cell_type": "code",
   "execution_count": 4,
   "id": "2171b31a",
   "metadata": {},
   "outputs": [
    {
     "name": "stdout",
     "output_type": "stream",
     "text": [
      "<class 'int'>\n",
      "<class 'int'>\n"
     ]
    }
   ],
   "source": [
    "# verificar tipo\n",
    "print(type(x))\n",
    "print(type(y))"
   ]
  },
  {
   "cell_type": "code",
   "execution_count": 5,
   "id": "55c6cf81",
   "metadata": {},
   "outputs": [
    {
     "name": "stdout",
     "output_type": "stream",
     "text": [
      "Informe o valor: \n",
      "50\n",
      "Informe o valor: 40\n"
     ]
    }
   ],
   "source": [
    "# entrada de dados\n",
    "print(\"Informe o valor: \")\n",
    "i = input()\n",
    "#ou\n",
    "i = input(\"Informe o valor: \")"
   ]
  },
  {
   "cell_type": "code",
   "execution_count": 6,
   "id": "bf56131d",
   "metadata": {},
   "outputs": [
    {
     "name": "stdout",
     "output_type": "stream",
     "text": [
      "Informe o valor: 30\n",
      "<class 'str'>\n",
      "<class 'float'>\n"
     ]
    }
   ],
   "source": [
    "# conversão de valores \n",
    "# para inteiro\n",
    "var = input(\"Informe o valor: \")\n",
    "print(type(var))\n",
    "var = float(var)\n",
    "print(type(var))"
   ]
  },
  {
   "cell_type": "code",
   "execution_count": null,
   "id": "12fdf0c3",
   "metadata": {},
   "outputs": [],
   "source": [
    "# Este texto é um comentário\n",
    "x = 10 # a partir daqui é um comentário"
   ]
  }
 ],
 "metadata": {
  "kernelspec": {
   "display_name": "Python 3 (ipykernel)",
   "language": "python",
   "name": "python3"
  },
  "language_info": {
   "codemirror_mode": {
    "name": "ipython",
    "version": 3
   },
   "file_extension": ".py",
   "mimetype": "text/x-python",
   "name": "python",
   "nbconvert_exporter": "python",
   "pygments_lexer": "ipython3",
   "version": "3.9.7"
  }
 },
 "nbformat": 4,
 "nbformat_minor": 5
}
